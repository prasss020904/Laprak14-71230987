{
 "cells": [
  {
   "cell_type": "code",
   "execution_count": 2,
   "id": "951f12f6",
   "metadata": {},
   "outputs": [
    {
     "name": "stdout",
     "output_type": "stream",
     "text": [
      "Masukkan bilangan: 13\n",
      "13 bilangan prima.\n"
     ]
    }
   ],
   "source": [
    "def bilangan_prima(n, pembagi):\n",
    "    if pembagi == 1:\n",
    "        return True\n",
    "    if n % pembagi == 0:\n",
    "        return False\n",
    "    return bilangan_prima(n, pembagi - 1)\n",
    "\n",
    "\n",
    "n = int(input(\"Masukkan bilangan: \"))\n",
    "if bilangan_prima(n,n-1):\n",
    "    print(f\"{n} bilangan prima.\")\n",
    "else:\n",
    "    print(f\"{n} bukan bilangan prima.\")"
   ]
  },
  {
   "cell_type": "code",
   "execution_count": 1,
   "id": "d752c4e5",
   "metadata": {},
   "outputs": [
    {
     "name": "stdout",
     "output_type": "stream",
     "text": [
      "Palindrom\n"
     ]
    }
   ],
   "source": [
    "def palindrom(kata):\n",
    "    kata = ''.join(kata.split()).lower()\n",
    "    if len(kata) <= 1:\n",
    "        return True\n",
    "    if kata[0] != kata[-1]:\n",
    "        return False\n",
    "    return palindrom(kata[1:-1])\n",
    "\n",
    "kata = \"Neova avoen\"\n",
    "if palindrom(kata):\n",
    "    print(\"Palindrom\")\n",
    "else:\n",
    "    print(\"Bukan palindrom\")"
   ]
  },
  {
   "cell_type": "code",
   "execution_count": 4,
   "id": "db26ee36",
   "metadata": {},
   "outputs": [
    {
     "name": "stdout",
     "output_type": "stream",
     "text": [
      "16\n"
     ]
    }
   ],
   "source": [
    "def jumlah_deret_ganjil(n):\n",
    "    if n == 1:\n",
    "        return 1\n",
    "    elif n % 2 == 0:\n",
    "        return jumlah_deret_ganjil(n - 1)\n",
    "    else:\n",
    "        return n + jumlah_deret_ganjil(n - 2)\n",
    "\n",
    "n = 7  \n",
    "print(jumlah_deret_ganjil(n)) "
   ]
  },
  {
   "cell_type": "code",
   "execution_count": 5,
   "id": "c94b7a33",
   "metadata": {},
   "outputs": [
    {
     "name": "stdout",
     "output_type": "stream",
     "text": [
      "Jumlah digit dari 234 adalah 9\n"
     ]
    }
   ],
   "source": [
    "def jumlah_digit(n):\n",
    "    if n == 0:\n",
    "        return 0\n",
    "    else:\n",
    "        return n % 10 + jumlah_digit(n // 10)\n",
    "\n",
    "bilangan = 234\n",
    "hasil = jumlah_digit(bilangan)\n",
    "print(\"Jumlah digit dari\", bilangan, \"adalah\", hasil)"
   ]
  },
  {
   "cell_type": "code",
   "execution_count": 6,
   "id": "fc09a558",
   "metadata": {},
   "outputs": [
    {
     "name": "stdout",
     "output_type": "stream",
     "text": [
      "792\n"
     ]
    }
   ],
   "source": [
    "def kombinasi(r,n):\n",
    "    if r == 0 or r == n:\n",
    "        return 1\n",
    "    else:\n",
    "        return kombinasi(r-1,n-1) + kombinasi(r,n-1)\n",
    "r = 12\n",
    "n = 5\n",
    "print(kombinasi(n,r))"
   ]
  },
  {
   "cell_type": "code",
   "execution_count": null,
   "id": "ea160076",
   "metadata": {},
   "outputs": [],
   "source": []
  }
 ],
 "metadata": {
  "kernelspec": {
   "display_name": "Python 3 (ipykernel)",
   "language": "python",
   "name": "python3"
  },
  "language_info": {
   "codemirror_mode": {
    "name": "ipython",
    "version": 3
   },
   "file_extension": ".py",
   "mimetype": "text/x-python",
   "name": "python",
   "nbconvert_exporter": "python",
   "pygments_lexer": "ipython3",
   "version": "3.11.5"
  }
 },
 "nbformat": 4,
 "nbformat_minor": 5
}
